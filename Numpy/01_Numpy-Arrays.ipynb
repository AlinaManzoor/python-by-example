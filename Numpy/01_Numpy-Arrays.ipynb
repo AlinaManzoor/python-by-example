{
 "cells": [
  {
   "cell_type": "code",
   "execution_count": 1,
   "metadata": {},
   "outputs": [
    {
     "name": "stdout",
     "output_type": "stream",
     "text": [
      "[1, 2, 3, 4, 5]\n",
      "<class 'list'>\n"
     ]
    }
   ],
   "source": [
    "a = [1,2,3,4 , 5]\n",
    "print(a)\n",
    "print(type(a))"
   ]
  },
  {
   "cell_type": "markdown",
   "metadata": {},
   "source": []
  },
  {
   "cell_type": "code",
   "execution_count": 2,
   "metadata": {},
   "outputs": [
    {
     "name": "stdout",
     "output_type": "stream",
     "text": [
      "[1 2 3 4 5]\n",
      "<class 'numpy.ndarray'>\n"
     ]
    }
   ],
   "source": [
    "import numpy as np\n",
    "\n",
    "arr = np.array([1,2, 3,4,5])\n",
    "print(arr)\n",
    "print(type (arr))"
   ]
  },
  {
   "cell_type": "code",
   "execution_count": 4,
   "metadata": {},
   "outputs": [
    {
     "name": "stdout",
     "output_type": "stream",
     "text": [
      "<class 'numpy.ndarray'>\n"
     ]
    }
   ],
   "source": [
    "# import the library\n",
    "import numpy as np\n",
    "arr = np.array([[[1 , 2, 3 ],[2,3,4] , [4,5,6]]])\n",
    "print(type(arr))"
   ]
  },
  {
   "cell_type": "code",
   "execution_count": 18,
   "metadata": {},
   "outputs": [
    {
     "name": "stdout",
     "output_type": "stream",
     "text": [
      "3\n"
     ]
    }
   ],
   "source": [
    "# ndim define the dimension of array\n",
    "print(arr.ndim)"
   ]
  },
  {
   "cell_type": "code",
   "execution_count": 5,
   "metadata": {},
   "outputs": [
    {
     "name": "stdout",
     "output_type": "stream",
     "text": [
      "<class 'numpy.float32'>\n",
      "[1. 2. 3.]\n"
     ]
    }
   ],
   "source": [
    "# find the type of individual of element will float\n",
    "arr = np.array([1 , 2, 3 ] , dtype = \"f\")\n",
    "print(type(arr[2]))\n",
    "print(arr)"
   ]
  },
  {
   "cell_type": "code",
   "execution_count": 6,
   "metadata": {},
   "outputs": [
    {
     "name": "stdout",
     "output_type": "stream",
     "text": [
      "<class 'numpy.bytes_'>\n",
      "[b'1' b'2' b'3']\n"
     ]
    }
   ],
   "source": [
    "# data type string\n",
    "arr = np.array([1 , 2, 3 ] , dtype = \"S\")\n",
    "print(type(arr[2]))\n",
    "print(arr)"
   ]
  },
  {
   "cell_type": "code",
   "execution_count": 7,
   "metadata": {},
   "outputs": [
    {
     "name": "stdout",
     "output_type": "stream",
     "text": [
      "<class 'numpy.intc'>\n",
      "[1 2 3]\n"
     ]
    }
   ],
   "source": [
    "# data type integer\n",
    "arr = np.array([1 , 2, 3 ] , dtype = \"i\")\n",
    "print(type(arr[2]))\n",
    "print(arr)"
   ]
  },
  {
   "cell_type": "code",
   "execution_count": 8,
   "metadata": {},
   "outputs": [
    {
     "name": "stdout",
     "output_type": "stream",
     "text": [
      "5\n"
     ]
    }
   ],
   "source": [
    "# No: of element in the array // Size\n",
    "arr = np.array([1 , 2 , 3  , 4 , 5])\n",
    "print((arr.size))"
   ]
  },
  {
   "cell_type": "code",
   "execution_count": 9,
   "metadata": {},
   "outputs": [
    {
     "name": "stdout",
     "output_type": "stream",
     "text": [
      "4\n"
     ]
    }
   ],
   "source": [
    "# item size of array\n",
    "print(arr.itemsize)"
   ]
  },
  {
   "cell_type": "code",
   "execution_count": 10,
   "metadata": {},
   "outputs": [
    {
     "name": "stdout",
     "output_type": "stream",
     "text": [
      "20\n"
     ]
    }
   ],
   "source": [
    "# numpy array size\n",
    "print(arr.size * arr.itemsize  )"
   ]
  },
  {
   "cell_type": "code",
   "execution_count": 11,
   "metadata": {},
   "outputs": [
    {
     "name": "stdout",
     "output_type": "stream",
     "text": [
      "3\n"
     ]
    }
   ],
   "source": [
    "# 2D array define dimension\n",
    "arr = np.array([[[1,2,3] , [4,5,6]]])\n",
    "print(arr.ndim)"
   ]
  },
  {
   "cell_type": "code",
   "execution_count": 12,
   "metadata": {},
   "outputs": [
    {
     "name": "stdout",
     "output_type": "stream",
     "text": [
      "(3, 2)\n"
     ]
    }
   ],
   "source": [
    "# define rows and column in 2D array  (rows , column) \n",
    "arr = np.array([[1,2] , [4,5] , [6,7]])\n",
    "print(arr.shape)"
   ]
  },
  {
   "cell_type": "code",
   "execution_count": 13,
   "metadata": {},
   "outputs": [
    {
     "name": "stdout",
     "output_type": "stream",
     "text": [
      "[4 5]\n"
     ]
    }
   ],
   "source": [
    "# print (row) through index\n",
    "print(arr[1])"
   ]
  },
  {
   "cell_type": "code",
   "execution_count": 14,
   "metadata": {},
   "outputs": [
    {
     "name": "stdout",
     "output_type": "stream",
     "text": [
      "4\n"
     ]
    }
   ],
   "source": [
    "# print individual element in 2D array\n",
    "print(arr[1][0])"
   ]
  },
  {
   "cell_type": "code",
   "execution_count": 15,
   "metadata": {},
   "outputs": [
    {
     "name": "stdout",
     "output_type": "stream",
     "text": [
      "[1 2 3 4 5 6 7 8 9]\n",
      "<class 'numpy.ndarray'>\n"
     ]
    }
   ],
   "source": [
    "# range of array in 2D array (include , exclude)\n",
    "arr = np.arange(1,10)\n",
    "print(arr)\n",
    "print(type(arr))"
   ]
  },
  {
   "cell_type": "code",
   "execution_count": 16,
   "metadata": {},
   "outputs": [
    {
     "name": "stdout",
     "output_type": "stream",
     "text": [
      "[1 3 5 7 9]\n"
     ]
    }
   ],
   "source": [
    "# range of array  with step in 2D array (include , exclude)\n",
    "arr = np.arange(1, 11 , 2)\n",
    "print(arr)"
   ]
  },
  {
   "cell_type": "code",
   "execution_count": 17,
   "metadata": {},
   "outputs": [
    {
     "name": "stdout",
     "output_type": "stream",
     "text": [
      "[10  9  8  7  6  5  4  3  2  1]\n"
     ]
    }
   ],
   "source": [
    "# range of array  with step in 2D array (include , exclude)\n",
    "arr = np.arange(10, 0 , -1)\n",
    "print(arr)"
   ]
  },
  {
   "cell_type": "code",
   "execution_count": 55,
   "metadata": {},
   "outputs": [
    {
     "name": "stdout",
     "output_type": "stream",
     "text": [
      "[[ 1  2  3  4  5]\n",
      " [ 6  7  8  9 10]\n",
      " [11 12 13 14 15]]\n"
     ]
    }
   ],
   "source": [
    "# make 2D array by range // method : reshape(row , column)\n",
    "arr = np.arange(1,16).reshape(3,5)                 # 3* 5 = 15(element)\n",
    "print(arr)"
   ]
  },
  {
   "cell_type": "code",
   "execution_count": 58,
   "metadata": {},
   "outputs": [
    {
     "name": "stdout",
     "output_type": "stream",
     "text": [
      "[[1. 0. 0.]\n",
      " [0. 1. 0.]\n",
      " [0. 0. 1.]]\n",
      "2\n",
      "9\n",
      "(3, 3)\n",
      "<class 'numpy.ndarray'>\n"
     ]
    }
   ],
   "source": [
    "# identity method\n",
    "arr = np.identity(3)   #float , diagonal = 1 , 2D array , square\n",
    "print(arr)            \n",
    "print(arr.ndim)      \n",
    "print(arr.size)\n",
    "print(arr.shape)\n",
    "print(type(arr))"
   ]
  },
  {
   "cell_type": "code",
   "execution_count": 32,
   "metadata": {},
   "outputs": [
    {
     "name": "stdout",
     "output_type": "stream",
     "text": [
      "[[1. 0. 0. 0. 0.]\n",
      " [0. 1. 0. 0. 0.]\n",
      " [0. 0. 1. 0. 0.]]\n"
     ]
    }
   ],
   "source": [
    "# identity method by eye method\n",
    "arr = np.eye(3, 5)   #float , principle_diagonal = 1 , 2D array , square\n",
    "print(arr)            \n"
   ]
  },
  {
   "cell_type": "code",
   "execution_count": 61,
   "metadata": {},
   "outputs": [
    {
     "name": "stdout",
     "output_type": "stream",
     "text": [
      "[[1 1 1 1]\n",
      " [1 1 1 1]\n",
      " [1 1 1 1]]\n"
     ]
    }
   ],
   "source": [
    "# All element One\n",
    "arr = np.ones((3,4) , dtype = \"i\")\n",
    "print(arr)"
   ]
  },
  {
   "cell_type": "code",
   "execution_count": 62,
   "metadata": {},
   "outputs": [
    {
     "name": "stdout",
     "output_type": "stream",
     "text": [
      "[[0 0 0 0]\n",
      " [0 0 0 0]\n",
      " [0 0 0 0]]\n"
     ]
    }
   ],
   "source": [
    "# All element zero\n",
    "arr = np.zeros((3,4) , dtype = \"i\")\n",
    "print(arr)"
   ]
  },
  {
   "cell_type": "code",
   "execution_count": 63,
   "metadata": {},
   "outputs": [
    {
     "name": "stdout",
     "output_type": "stream",
     "text": [
      "[1. 1. 1.]\n"
     ]
    }
   ],
   "source": [
    "# All element One\n",
    "arr = np.ones(3) # (3,1) , by default data type will float\n",
    "print(arr)"
   ]
  },
  {
   "cell_type": "code",
   "execution_count": 67,
   "metadata": {},
   "outputs": [
    {
     "name": "stdout",
     "output_type": "stream",
     "text": [
      "[[5. 5. 5.]\n",
      " [5. 5. 5.]\n",
      " [5. 5. 5.]\n",
      " [5. 5. 5.]]\n"
     ]
    }
   ],
   "source": [
    "# 2d array of fixed value \n",
    "arr = np.full((4,3) , 5 , dtype = \"f\")\n",
    "print(arr)"
   ]
  },
  {
   "cell_type": "code",
   "execution_count": 68,
   "metadata": {},
   "outputs": [
    {
     "data": {
      "text/plain": [
       "False"
      ]
     },
     "execution_count": 68,
     "metadata": {},
     "output_type": "execute_result"
    }
   ],
   "source": [
    "# identity all element in array is non_zero \n",
    "# if non_zero o/p will True otherwise False\n",
    "arr = np.array([1,1,2,2,4,4,0,5,5])\n",
    "np.all(arr)  # one element is zero answer : False"
   ]
  },
  {
   "cell_type": "code",
   "execution_count": 70,
   "metadata": {},
   "outputs": [
    {
     "data": {
      "text/plain": [
       "True"
      ]
     },
     "execution_count": 70,
     "metadata": {},
     "output_type": "execute_result"
    }
   ],
   "source": [
    "arr = np.array([1,1,2,2,4,4,1,5,5])\n",
    "np.all(arr)   # all element is non_Zero"
   ]
  },
  {
   "cell_type": "code",
   "execution_count": 78,
   "metadata": {},
   "outputs": [
    {
     "name": "stdout",
     "output_type": "stream",
     "text": [
      "[False  True]\n"
     ]
    }
   ],
   "source": [
    "# compare 2 arrays \n",
    "import numpy as np\n",
    "arr1 = np.array([1,5])  # 1 compare to 2 = False , 5 compare to 5 = True\n",
    "arr2 = np.array([2,5])\n",
    "\n",
    "print(np.greater_equal(arr1 , arr2))"
   ]
  },
  {
   "cell_type": "code",
   "execution_count": 80,
   "metadata": {},
   "outputs": [
    {
     "name": "stdout",
     "output_type": "stream",
     "text": [
      "[ True False]\n"
     ]
    }
   ],
   "source": [
    "# compare 2 arrays \n",
    "import numpy as np\n",
    "arr1 = np.array([1,5])  # 1 less to 2 = True , 5 less to 5 = False\n",
    "arr2 = np.array([2,5])\n",
    "\n",
    "print(np.less(arr1 , arr2))"
   ]
  },
  {
   "cell_type": "code",
   "execution_count": 83,
   "metadata": {},
   "outputs": [
    {
     "name": "stdout",
     "output_type": "stream",
     "text": [
      "[ True  True]\n"
     ]
    }
   ],
   "source": [
    "# compare 2 arrays \n",
    "import numpy as np\n",
    "arr1 = np.array([1,5])  # 1 less_equal 2 = True , 5 less_equal to 5 = True\n",
    "arr2 = np.array([2,5])\n",
    "\n",
    "print(np.less_equal(arr1 , arr2))"
   ]
  },
  {
   "cell_type": "code",
   "execution_count": 84,
   "metadata": {},
   "outputs": [
    {
     "name": "stdout",
     "output_type": "stream",
     "text": [
      "15\n"
     ]
    }
   ],
   "source": [
    "# sum to all element in the  array\n",
    "arr = np.array([1 ,2 ,3,4,5]) # 1+ 2+ 3+4+5 = 15\n",
    "print(np.sum(arr))"
   ]
  },
  {
   "cell_type": "code",
   "execution_count": 18,
   "metadata": {},
   "outputs": [
    {
     "name": "stdout",
     "output_type": "stream",
     "text": [
      "[[1 2]\n",
      " [3 4]]\n",
      "[4 6]\n"
     ]
    }
   ],
   "source": [
    "# sum row to column in 2D array   // 1+3 = 4 , 2+4 = 6\n",
    "arr = np.array([[1,2],[3,4]])\n",
    "print(arr)\n",
    "print(np.sum(arr , axis = 0))"
   ]
  },
  {
   "cell_type": "code",
   "execution_count": 20,
   "metadata": {},
   "outputs": [
    {
     "name": "stdout",
     "output_type": "stream",
     "text": [
      "[[1 2]\n",
      " [3 4]]\n",
      "[3 7]\n"
     ]
    }
   ],
   "source": [
    "# sum row to column in 2D array   // 1+2 = 3 , 3+4 = 7\n",
    "arr = np.array([[1,2],[3,4]])\n",
    "print(arr)\n",
    "print(np.sum(arr , axis = 1))"
   ]
  },
  {
   "cell_type": "code",
   "execution_count": 22,
   "metadata": {},
   "outputs": [
    {
     "name": "stdout",
     "output_type": "stream",
     "text": [
      "[1 2 3 4 5]\n"
     ]
    }
   ],
   "source": [
    "# sorted 1D array\n",
    "arr = np.array([ 2,1,4,3,5])\n",
    "print(np.sort(arr))"
   ]
  },
  {
   "cell_type": "code",
   "execution_count": 28,
   "metadata": {},
   "outputs": [
    {
     "name": "stdout",
     "output_type": "stream",
     "text": [
      "[[1 2]\n",
      " [1 3]]\n"
     ]
    }
   ],
   "source": [
    "# In 2D array it sorted column vise // compare 2 to `1` & compare 3 to 1\n",
    "arr = np.array([[2,1],[3,1]])\n",
    "print(np.sort(arr , axis = 1))\n"
   ]
  },
  {
   "cell_type": "code",
   "execution_count": 5,
   "metadata": {},
   "outputs": [
    {
     "name": "stdout",
     "output_type": "stream",
     "text": [
      "[4.4 5.5 6.6 7.7 8.8 9.9]\n"
     ]
    }
   ],
   "source": [
    "# find values of array which is greater then specific value\n",
    "import numpy as np\n",
    "arr = np.array([[1.1,4.4 ,7.7] , [2.2,5.5, 8.8] , [3.3,6.6,9.9]])\n",
    "arr1 = arr[arr > 3.3]  # > 3.3 value print\n",
    "arr2 = np.sort(arr1)\n",
    "print(arr2)"
   ]
  },
  {
   "cell_type": "code",
   "execution_count": 6,
   "metadata": {},
   "outputs": [
    {
     "name": "stdout",
     "output_type": "stream",
     "text": [
      "[1.1 2.2]\n"
     ]
    }
   ],
   "source": [
    "# find values of array which is less then specific value\n",
    "import numpy as np\n",
    "arr = np.array([[1.1,4.4 ,7.7] , [2.2,5.5, 8.8] , [3.3,6.6,9.9]])\n",
    "arr1 = arr[arr < 3.3]  # < 3.3 value print\n",
    "print(arr1)"
   ]
  },
  {
   "cell_type": "code",
   "execution_count": 7,
   "metadata": {},
   "outputs": [
    {
     "name": "stdout",
     "output_type": "stream",
     "text": [
      "[3.3]\n"
     ]
    }
   ],
   "source": [
    "# find values of array which is equal to specific value\n",
    "import numpy as np\n",
    "arr = np.array([[1.1,4.4 ,7.7] , [2.2,5.5, 8.8] , [3.3,6.6,9.9]])\n",
    "arr1 = arr[arr == 3.3]  # ==  3.3 value print\n",
    "print(arr1)"
   ]
  },
  {
   "cell_type": "code",
   "execution_count": 8,
   "metadata": {},
   "outputs": [
    {
     "name": "stdout",
     "output_type": "stream",
     "text": [
      "[]\n"
     ]
    }
   ],
   "source": [
    "# find values of array which is less then specific value\n",
    "import numpy as np\n",
    "arr = np.array([[1.1,4.4 ,7.7] , [2.2,5.5, 8.8] , [3.3,6.6,9.9]])\n",
    "arr1 = arr[arr < 1.1]  # [] empty index print\n",
    "print(arr1)"
   ]
  },
  {
   "cell_type": "code",
   "execution_count": 9,
   "metadata": {},
   "outputs": [
    {
     "name": "stdout",
     "output_type": "stream",
     "text": [
      "[[ 6 32  8]\n",
      " [36 35 14]]\n"
     ]
    }
   ],
   "source": [
    "# multiplication of 2D arrays // Matrix size should be same\n",
    "arr1 = np.array([[6,8,4] , [4,7,2]])\n",
    "arr2 = np.array([[1,4,2] , [9,5,7]])\n",
    "\n",
    "print(np.multiply(arr1 , arr2))"
   ]
  },
  {
   "cell_type": "code",
   "execution_count": 11,
   "metadata": {},
   "outputs": [
    {
     "name": "stdout",
     "output_type": "stream",
     "text": [
      "[[102  92]\n",
      " [ 79  65]]\n"
     ]
    }
   ],
   "source": [
    "# dot product but (m,n) = (n,m)\n",
    "arr1 = np.array([[6,8,4] , [4,7,2]])  # 2 rows and 3 column\n",
    "arr2 = np.array([[1,4] , [9,5] , [6,7]])   # 3 rows and 2 column\n",
    "\n",
    "print(np.dot(arr1 , arr2))"
   ]
  },
  {
   "cell_type": "code",
   "execution_count": 19,
   "metadata": {},
   "outputs": [
    {
     "name": "stdout",
     "output_type": "stream",
     "text": [
      "[[0 1 0 1 0 1 0]\n",
      " [1 0 1 0 1 0 1]\n",
      " [0 1 0 1 0 1 0]\n",
      " [1 0 1 0 1 0 1]\n",
      " [0 1 0 1 0 1 0]]\n"
     ]
    }
   ],
   "source": [
    "# numpy array to an image and vice versa\n",
    "import numpy as np\n",
    "Image = np.array([[0 , 1 , 0 , 1 , 0 , 1 , 0],\n",
    "                  [1 , 0 , 1 , 0 , 1 , 0 , 1],\n",
    "                  [0 , 1 , 0 , 1 , 0 , 1 , 0],\n",
    "                  [1 , 0 , 1 , 0 , 1 , 0 , 1],\n",
    "                  [0 , 1 , 0 , 1 , 0 , 1 , 0]])\n",
    "print(Image)\n"
   ]
  },
  {
   "cell_type": "code",
   "execution_count": null,
   "metadata": {},
   "outputs": [],
   "source": [
    "import matplotlib.pyplot as plt\n",
    "\n",
    "plt.imshow(Image , cmap = \"gray\")\n",
    "plt.title(\"Binary image\")\n",
    "plt.axis(\"off\")\n",
    "\n",
    "plt.show()\n"
   ]
  },
  {
   "cell_type": "code",
   "execution_count": 31,
   "metadata": {},
   "outputs": [
    {
     "name": "stdout",
     "output_type": "stream",
     "text": [
      "[  1.    25.75  50.5   75.25 100.  ]\n"
     ]
    }
   ],
   "source": [
    "# line_space between array element \n",
    "arr = np.linspace(1 , 100 , 5)     #(start , stop , value_quantity )\n",
    "print(arr)"
   ]
  },
  {
   "cell_type": "code",
   "execution_count": 24,
   "metadata": {},
   "outputs": [
    {
     "name": "stdout",
     "output_type": "stream",
     "text": [
      "[[[1 2 3]\n",
      "  [2 3 4]]\n",
      "\n",
      " [[5 6 7]\n",
      "  [7 8 9]]]\n"
     ]
    }
   ],
   "source": [
    "# 3d array\n",
    "arr = np.array([[[1,2,3],[2,3,4]] ,[[5,6,7],[7,8,9]]])\n",
    "print(arr)"
   ]
  },
  {
   "cell_type": "code",
   "execution_count": 33,
   "metadata": {},
   "outputs": [
    {
     "name": "stdout",
     "output_type": "stream",
     "text": [
      "[[1 0 0]\n",
      " [0 2 0]\n",
      " [0 0 3]]\n"
     ]
    }
   ],
   "source": [
    "# diagonal matrix\n",
    "arr = np.diag([1,2,3])\n",
    "print(arr)"
   ]
  },
  {
   "cell_type": "code",
   "execution_count": 34,
   "metadata": {},
   "outputs": [
    {
     "name": "stdout",
     "output_type": "stream",
     "text": [
      "[[0 1 0 0]\n",
      " [0 0 2 0]\n",
      " [0 0 0 3]\n",
      " [0 0 0 0]]\n"
     ]
    }
   ],
   "source": [
    "# diagonal matrix\n",
    "arr = np.diag([1,2,3] , 1) # 1st column and last row empty\n",
    "print(arr)"
   ]
  },
  {
   "cell_type": "code",
   "execution_count": 35,
   "metadata": {},
   "outputs": [
    {
     "name": "stdout",
     "output_type": "stream",
     "text": [
      "[1 4]\n"
     ]
    }
   ],
   "source": [
    "# find diagonal element\n",
    "arr = np.array([[1,2],[3,4]])\n",
    "print(np.diag(arr))"
   ]
  },
  {
   "cell_type": "code",
   "execution_count": 40,
   "metadata": {},
   "outputs": [
    {
     "name": "stdout",
     "output_type": "stream",
     "text": [
      "[[1 1]\n",
      " [2 1]\n",
      " [3 1]]\n"
     ]
    }
   ],
   "source": [
    "# line_space ([rows] , column)        # x^2-1 = x = 1\n",
    "arr = np.vander([1,2,3] , 2)         # x^2-2 = 1\n",
    "print(arr)                           # x2-3 = -x = 1"
   ]
  },
  {
   "cell_type": "code",
   "execution_count": 48,
   "metadata": {},
   "outputs": [
    {
     "name": "stdout",
     "output_type": "stream",
     "text": [
      "[[0.  1. ]\n",
      " [0.5 1. ]\n",
      " [1.  1. ]\n",
      " [1.5 1. ]\n",
      " [2.  1. ]]\n"
     ]
    }
   ],
   "source": [
    "# vandermonde\n",
    "import numpy as np\n",
    "arr = np.vander(np.linspace(0,2,5) , 2)\n",
    "print(arr)"
   ]
  },
  {
   "cell_type": "code",
   "execution_count": 50,
   "metadata": {},
   "outputs": [
    {
     "name": "stdout",
     "output_type": "stream",
     "text": [
      "[[ 1  1  1  1]\n",
      " [ 8  4  2  1]\n",
      " [27  9  3  1]\n",
      " [64 16  4  1]]\n"
     ]
    }
   ],
   "source": [
    "# vandermonde matrix\n",
    "\n",
    "arr = np.vander((1,2,3,4) , 4)   # (1,2,3,4) is i/p or \"x\"  & 4 = column or power\n",
    "print(arr)          # First column: 𝑥4−1=𝑥3 , Second column:x4−2=x2 ,Third column: x4−3=x1=x , Fourth column: x4−4=x0=1\n",
    "                    # 2^4-1 = 8 , 2^3-1 = 4 , 2^2-1 = 2 , 2^1-1 = 1"
   ]
  },
  {
   "cell_type": "code",
   "execution_count": 52,
   "metadata": {},
   "outputs": [
    {
     "name": "stdout",
     "output_type": "stream",
     "text": [
      "[[[0. 0.]\n",
      "  [0. 0.]\n",
      "  [0. 0.]]\n",
      "\n",
      " [[0. 0.]\n",
      "  [0. 0.]\n",
      "  [0. 0.]]]\n"
     ]
    }
   ],
   "source": [
    "# 3D in zeros(block , rows , column)\n",
    "arr = np.zeros((2,3,2))  # apply as same as on ones\n",
    "print(arr)                "
   ]
  },
  {
   "cell_type": "code",
   "execution_count": 60,
   "metadata": {},
   "outputs": [
    {
     "name": "stdout",
     "output_type": "stream",
     "text": [
      "[[0.77395605 0.43887844]\n",
      " [0.85859792 0.69736803]\n",
      " [0.09417735 0.97562235]]\n"
     ]
    }
   ],
   "source": [
    "# random number   , numpy.random is module and default_rng is function\n",
    "import numpy as np\n",
    "from numpy.random import default_rng \n",
    "arr = default_rng(42).random((3,2))\n",
    "print(arr)"
   ]
  },
  {
   "cell_type": "code",
   "execution_count": 61,
   "metadata": {},
   "outputs": [
    {
     "name": "stdout",
     "output_type": "stream",
     "text": [
      "[[[0.77395605 0.43887844]\n",
      "  [0.85859792 0.69736803]\n",
      "  [0.09417735 0.97562235]]\n",
      "\n",
      " [[0.7611397  0.78606431]\n",
      "  [0.12811363 0.45038594]\n",
      "  [0.37079802 0.92676499]]]\n"
     ]
    }
   ],
   "source": [
    "# random(blocks , row , column)\n",
    "from numpy.random import default_rng\n",
    "arr = default_rng(42).random((2,3,2))   # 42  generate same random value always when program run\n",
    "print(arr)"
   ]
  },
  {
   "cell_type": "code",
   "execution_count": 63,
   "metadata": {},
   "outputs": [
    {
     "name": "stdout",
     "output_type": "stream",
     "text": [
      "[[[0 0 0 0]\n",
      "  [1 1 1 1]\n",
      "  [2 2 2 2]\n",
      "  [3 3 3 3]]\n",
      "\n",
      " [[0 1 2 3]\n",
      "  [0 1 2 3]\n",
      "  [0 1 2 3]\n",
      "  [0 1 2 3]]]\n"
     ]
    }
   ],
   "source": [
    "\"\"\"Indices method : First array (row indices) → Each row contains the same row index.\n",
    "                  :Second array (column indices) → Each column contains its own column index\"\"\"\n",
    "\n",
    "arr = np.indices((4,4))  # o/p The output shape will be (2, 4, 4)\n",
    "print(arr)"
   ]
  },
  {
   "cell_type": "code",
   "execution_count": 64,
   "metadata": {},
   "outputs": [
    {
     "name": "stdout",
     "output_type": "stream",
     "text": [
      "a =  [2 3 3 4 5] b =  [2 3]\n"
     ]
    }
   ],
   "source": [
    "# slice view\n",
    "a = np.array([1,2,3,4,5])\n",
    "b = a[:2]   # b = [1 , 2]\n",
    "b += 1      # b= [1 ,2] to [2,3]\n",
    "print(\"a = \" , a, \"b = \" ,b) # it doesn't copy so it also effect a"
   ]
  },
  {
   "cell_type": "code",
   "execution_count": 65,
   "metadata": {},
   "outputs": [
    {
     "name": "stdout",
     "output_type": "stream",
     "text": [
      "a =  [1 2 3 4 5] b =  [2 3]\n"
     ]
    }
   ],
   "source": [
    "# Replicate (copy) method\n",
    "a = np.array([1,2,3,4,5])\n",
    "b = a[:2].copy() # now it will not effect \"a\" b/c a is copy for \"b\"\n",
    "b += 1\n",
    "print(\"a = \" , a, \"b = \" ,b)"
   ]
  },
  {
   "cell_type": "code",
   "execution_count": 70,
   "metadata": {},
   "outputs": [
    {
     "name": "stdout",
     "output_type": "stream",
     "text": [
      "[[1. 1. 0. 0.]\n",
      " [1. 1. 0. 0.]\n",
      " [1. 0. 5. 5.]\n",
      " [0. 1. 5. 5.]]\n"
     ]
    }
   ],
   "source": [
    "# join to 2 arrays or multi arrays \n",
    "A = np.ones((2,2))\n",
    "B = np.zeros((2,2))\n",
    "C = np.eye(2,2)\n",
    "D = np.full((2,2) ,5)\n",
    "\n",
    "arr = np.block([[A,B] , [C,D]])   # join A+B , C+D\n",
    "print(arr)"
   ]
  },
  {
   "cell_type": "code",
   "execution_count": 91,
   "metadata": {},
   "outputs": [
    {
     "name": "stdout",
     "output_type": "stream",
     "text": [
      "[[1 2]\n",
      " [3 4]\n",
      " [5 6]]\n"
     ]
    }
   ],
   "source": [
    "# join by \"vstack \" : Vertical stack (join row vise and column should same)\n",
    "arr1 = np.array([[1,2] , [3,4]])\n",
    "arr2 = np.array([5,6])\n",
    "                                    # it used for 1D and 2D \n",
    "arr = np.vstack((arr1 , arr2))     # 2 different array combine row wise          \n",
    "print(arr)"
   ]
  },
  {
   "cell_type": "code",
   "execution_count": 82,
   "metadata": {},
   "outputs": [
    {
     "name": "stdout",
     "output_type": "stream",
     "text": [
      "[1 2 3 4 5 6 7]\n"
     ]
    }
   ],
   "source": [
    "# join by \"hstack\": Horizontal stack (Row should be same)\n",
    "arr1 = np.array([1,2 ,3 , 4 ,5])\n",
    "arr2 = np.array([6,7])\n",
    "\n",
    "arr = np.hstack((arr1 , arr2)) # Since a and b are 1D, they are concatenated into a single row.\n",
    "print(arr)"
   ]
  },
  {
   "cell_type": "code",
   "execution_count": 90,
   "metadata": {},
   "outputs": [
    {
     "name": "stdout",
     "output_type": "stream",
     "text": [
      "[[1 2 3 4]\n",
      " [5 6 7 8]]\n"
     ]
    }
   ],
   "source": [
    "# hstack for multiple array\n",
    "arr1 = np.array([[1,2] , [5,6]])\n",
    "arr2 = np.array([[3,4] ,[7,8]])\n",
    "\n",
    "result = np.hstack((arr1 , arr2)) # Since a and b are 2D, they are concatenated into a 1st row into 1st row and vise versa.\n",
    "print(result)"
   ]
  },
  {
   "cell_type": "code",
   "execution_count": null,
   "metadata": {},
   "outputs": [],
   "source": []
  }
 ],
 "metadata": {
  "kernelspec": {
   "display_name": "base",
   "language": "python",
   "name": "python3"
  },
  "language_info": {
   "codemirror_mode": {
    "name": "ipython",
    "version": 3
   },
   "file_extension": ".py",
   "mimetype": "text/x-python",
   "name": "python",
   "nbconvert_exporter": "python",
   "pygments_lexer": "ipython3",
   "version": "3.12.7"
  }
 },
 "nbformat": 4,
 "nbformat_minor": 2
}
